{
  "nbformat": 4,
  "nbformat_minor": 0,
  "metadata": {
    "colab": {
      "provenance": [],
      "machine_shape": "hm"
    },
    "kernelspec": {
      "name": "python3",
      "display_name": "Python 3"
    }
  },
  "cells": [
    {
      "cell_type": "code",
      "source": [
        "from google.colab import drive\n",
        "drive.mount('/content/drive')"
      ],
      "metadata": {
        "colab": {
          "base_uri": "https://localhost:8080/"
        },
        "id": "aI-xSzyq4Y1H",
        "outputId": "97a39ebf-32f5-47c8-9d2c-6b4c98ee5add"
      },
      "execution_count": null,
      "outputs": [
        {
          "output_type": "stream",
          "name": "stdout",
          "text": [
            "Mounted at /content/drive\n"
          ]
        }
      ]
    },
    {
      "cell_type": "code",
      "source": [],
      "metadata": {
        "id": "rJwPgHrJ4xAg"
      },
      "execution_count": null,
      "outputs": []
    },
    {
      "cell_type": "markdown",
      "source": [
        " **PCA**"
      ],
      "metadata": {
        "id": "EpxfVeyA2emp"
      }
    },
    {
      "cell_type": "code",
      "execution_count": null,
      "metadata": {
        "id": "CR_mNdxBZCp2"
      },
      "outputs": [],
      "source": [
        "import numpy as np\n",
        "import pandas as pd\n",
        "import seaborn as sns\n",
        "import matplotlib.pyplot as plt\n"
      ]
    },
    {
      "cell_type": "code",
      "source": [
        "from google.colab import drive\n",
        "drive.mount('/content/drive')"
      ],
      "metadata": {
        "colab": {
          "base_uri": "https://localhost:8080/"
        },
        "id": "5R74iFR9ZWKU",
        "outputId": "8b44698b-b18d-476c-b170-f6f890bf5d6b"
      },
      "execution_count": null,
      "outputs": [
        {
          "output_type": "stream",
          "name": "stdout",
          "text": [
            "Mounted at /content/drive\n"
          ]
        }
      ]
    },
    {
      "cell_type": "code",
      "source": [
        "df = pd.read_csv(\"/content/drive/MyDrive/Embedding.csv\")"
      ],
      "metadata": {
        "id": "jxOWpYu_ZgfV"
      },
      "execution_count": null,
      "outputs": []
    },
    {
      "cell_type": "code",
      "source": [
        "df.head()"
      ],
      "metadata": {
        "colab": {
          "base_uri": "https://localhost:8080/",
          "height": 317
        },
        "id": "fpdylO_uZrOe",
        "outputId": "ccd732d1-f927-48bf-8cda-cd83990271ae"
      },
      "execution_count": null,
      "outputs": [
        {
          "output_type": "execute_result",
          "data": {
            "text/plain": [
              "   Unnamed: 0         0         1         2         3         4         5  \\\n",
              "0           0  0.081266  0.090006 -0.065058  0.049948  0.032879  0.046094   \n",
              "1           1  0.028080  0.005734  0.040041  0.061236  0.040875 -0.069955   \n",
              "2           2  0.061000  0.078233 -0.078150  0.048443  0.050105 -0.002728   \n",
              "3           3  0.047871  0.011711  0.035404 -0.022226 -0.064163  0.034550   \n",
              "4           4 -0.037904 -0.059407 -0.027755  0.007813  0.062542 -0.002690   \n",
              "\n",
              "          6         7         8  ...       502       503       504       505  \\\n",
              "0 -0.003582 -0.023268 -0.031716  ... -0.033250  0.018768  0.004863  0.049900   \n",
              "1  0.027157 -0.053403 -0.028932  ... -0.009834 -0.019325  0.061679  0.020484   \n",
              "2  0.008016 -0.045823 -0.018960  ...  0.007463 -0.002182  0.038589  0.040435   \n",
              "3  0.071754 -0.036553 -0.003387  ...  0.054381 -0.014081  0.063638  0.001286   \n",
              "4  0.028363 -0.000866  0.007131  ... -0.079811 -0.113180  0.041112  0.021667   \n",
              "\n",
              "        506       507       508       509       510       511  \n",
              "0 -0.087597 -0.021242  0.025234  0.087739 -0.004775 -0.077533  \n",
              "1 -0.084798  0.033753 -0.014862 -0.009352 -0.026338 -0.064855  \n",
              "2 -0.064727 -0.000700  0.016859  0.091302  0.021227 -0.079665  \n",
              "3 -0.082296 -0.005946 -0.021445  0.068677  0.038214  0.029727  \n",
              "4  0.022140 -0.021311 -0.033553  0.007020 -0.000512 -0.092202  \n",
              "\n",
              "[5 rows x 513 columns]"
            ],
            "text/html": [
              "\n",
              "  <div id=\"df-4b9898cc-3dec-4ad7-90f8-49f9c15e15a9\">\n",
              "    <div class=\"colab-df-container\">\n",
              "      <div>\n",
              "<style scoped>\n",
              "    .dataframe tbody tr th:only-of-type {\n",
              "        vertical-align: middle;\n",
              "    }\n",
              "\n",
              "    .dataframe tbody tr th {\n",
              "        vertical-align: top;\n",
              "    }\n",
              "\n",
              "    .dataframe thead th {\n",
              "        text-align: right;\n",
              "    }\n",
              "</style>\n",
              "<table border=\"1\" class=\"dataframe\">\n",
              "  <thead>\n",
              "    <tr style=\"text-align: right;\">\n",
              "      <th></th>\n",
              "      <th>Unnamed: 0</th>\n",
              "      <th>0</th>\n",
              "      <th>1</th>\n",
              "      <th>2</th>\n",
              "      <th>3</th>\n",
              "      <th>4</th>\n",
              "      <th>5</th>\n",
              "      <th>6</th>\n",
              "      <th>7</th>\n",
              "      <th>8</th>\n",
              "      <th>...</th>\n",
              "      <th>502</th>\n",
              "      <th>503</th>\n",
              "      <th>504</th>\n",
              "      <th>505</th>\n",
              "      <th>506</th>\n",
              "      <th>507</th>\n",
              "      <th>508</th>\n",
              "      <th>509</th>\n",
              "      <th>510</th>\n",
              "      <th>511</th>\n",
              "    </tr>\n",
              "  </thead>\n",
              "  <tbody>\n",
              "    <tr>\n",
              "      <th>0</th>\n",
              "      <td>0</td>\n",
              "      <td>0.081266</td>\n",
              "      <td>0.090006</td>\n",
              "      <td>-0.065058</td>\n",
              "      <td>0.049948</td>\n",
              "      <td>0.032879</td>\n",
              "      <td>0.046094</td>\n",
              "      <td>-0.003582</td>\n",
              "      <td>-0.023268</td>\n",
              "      <td>-0.031716</td>\n",
              "      <td>...</td>\n",
              "      <td>-0.033250</td>\n",
              "      <td>0.018768</td>\n",
              "      <td>0.004863</td>\n",
              "      <td>0.049900</td>\n",
              "      <td>-0.087597</td>\n",
              "      <td>-0.021242</td>\n",
              "      <td>0.025234</td>\n",
              "      <td>0.087739</td>\n",
              "      <td>-0.004775</td>\n",
              "      <td>-0.077533</td>\n",
              "    </tr>\n",
              "    <tr>\n",
              "      <th>1</th>\n",
              "      <td>1</td>\n",
              "      <td>0.028080</td>\n",
              "      <td>0.005734</td>\n",
              "      <td>0.040041</td>\n",
              "      <td>0.061236</td>\n",
              "      <td>0.040875</td>\n",
              "      <td>-0.069955</td>\n",
              "      <td>0.027157</td>\n",
              "      <td>-0.053403</td>\n",
              "      <td>-0.028932</td>\n",
              "      <td>...</td>\n",
              "      <td>-0.009834</td>\n",
              "      <td>-0.019325</td>\n",
              "      <td>0.061679</td>\n",
              "      <td>0.020484</td>\n",
              "      <td>-0.084798</td>\n",
              "      <td>0.033753</td>\n",
              "      <td>-0.014862</td>\n",
              "      <td>-0.009352</td>\n",
              "      <td>-0.026338</td>\n",
              "      <td>-0.064855</td>\n",
              "    </tr>\n",
              "    <tr>\n",
              "      <th>2</th>\n",
              "      <td>2</td>\n",
              "      <td>0.061000</td>\n",
              "      <td>0.078233</td>\n",
              "      <td>-0.078150</td>\n",
              "      <td>0.048443</td>\n",
              "      <td>0.050105</td>\n",
              "      <td>-0.002728</td>\n",
              "      <td>0.008016</td>\n",
              "      <td>-0.045823</td>\n",
              "      <td>-0.018960</td>\n",
              "      <td>...</td>\n",
              "      <td>0.007463</td>\n",
              "      <td>-0.002182</td>\n",
              "      <td>0.038589</td>\n",
              "      <td>0.040435</td>\n",
              "      <td>-0.064727</td>\n",
              "      <td>-0.000700</td>\n",
              "      <td>0.016859</td>\n",
              "      <td>0.091302</td>\n",
              "      <td>0.021227</td>\n",
              "      <td>-0.079665</td>\n",
              "    </tr>\n",
              "    <tr>\n",
              "      <th>3</th>\n",
              "      <td>3</td>\n",
              "      <td>0.047871</td>\n",
              "      <td>0.011711</td>\n",
              "      <td>0.035404</td>\n",
              "      <td>-0.022226</td>\n",
              "      <td>-0.064163</td>\n",
              "      <td>0.034550</td>\n",
              "      <td>0.071754</td>\n",
              "      <td>-0.036553</td>\n",
              "      <td>-0.003387</td>\n",
              "      <td>...</td>\n",
              "      <td>0.054381</td>\n",
              "      <td>-0.014081</td>\n",
              "      <td>0.063638</td>\n",
              "      <td>0.001286</td>\n",
              "      <td>-0.082296</td>\n",
              "      <td>-0.005946</td>\n",
              "      <td>-0.021445</td>\n",
              "      <td>0.068677</td>\n",
              "      <td>0.038214</td>\n",
              "      <td>0.029727</td>\n",
              "    </tr>\n",
              "    <tr>\n",
              "      <th>4</th>\n",
              "      <td>4</td>\n",
              "      <td>-0.037904</td>\n",
              "      <td>-0.059407</td>\n",
              "      <td>-0.027755</td>\n",
              "      <td>0.007813</td>\n",
              "      <td>0.062542</td>\n",
              "      <td>-0.002690</td>\n",
              "      <td>0.028363</td>\n",
              "      <td>-0.000866</td>\n",
              "      <td>0.007131</td>\n",
              "      <td>...</td>\n",
              "      <td>-0.079811</td>\n",
              "      <td>-0.113180</td>\n",
              "      <td>0.041112</td>\n",
              "      <td>0.021667</td>\n",
              "      <td>0.022140</td>\n",
              "      <td>-0.021311</td>\n",
              "      <td>-0.033553</td>\n",
              "      <td>0.007020</td>\n",
              "      <td>-0.000512</td>\n",
              "      <td>-0.092202</td>\n",
              "    </tr>\n",
              "  </tbody>\n",
              "</table>\n",
              "<p>5 rows × 513 columns</p>\n",
              "</div>\n",
              "      <button class=\"colab-df-convert\" onclick=\"convertToInteractive('df-4b9898cc-3dec-4ad7-90f8-49f9c15e15a9')\"\n",
              "              title=\"Convert this dataframe to an interactive table.\"\n",
              "              style=\"display:none;\">\n",
              "        \n",
              "  <svg xmlns=\"http://www.w3.org/2000/svg\" height=\"24px\"viewBox=\"0 0 24 24\"\n",
              "       width=\"24px\">\n",
              "    <path d=\"M0 0h24v24H0V0z\" fill=\"none\"/>\n",
              "    <path d=\"M18.56 5.44l.94 2.06.94-2.06 2.06-.94-2.06-.94-.94-2.06-.94 2.06-2.06.94zm-11 1L8.5 8.5l.94-2.06 2.06-.94-2.06-.94L8.5 2.5l-.94 2.06-2.06.94zm10 10l.94 2.06.94-2.06 2.06-.94-2.06-.94-.94-2.06-.94 2.06-2.06.94z\"/><path d=\"M17.41 7.96l-1.37-1.37c-.4-.4-.92-.59-1.43-.59-.52 0-1.04.2-1.43.59L10.3 9.45l-7.72 7.72c-.78.78-.78 2.05 0 2.83L4 21.41c.39.39.9.59 1.41.59.51 0 1.02-.2 1.41-.59l7.78-7.78 2.81-2.81c.8-.78.8-2.07 0-2.86zM5.41 20L4 18.59l7.72-7.72 1.47 1.35L5.41 20z\"/>\n",
              "  </svg>\n",
              "      </button>\n",
              "      \n",
              "  <style>\n",
              "    .colab-df-container {\n",
              "      display:flex;\n",
              "      flex-wrap:wrap;\n",
              "      gap: 12px;\n",
              "    }\n",
              "\n",
              "    .colab-df-convert {\n",
              "      background-color: #E8F0FE;\n",
              "      border: none;\n",
              "      border-radius: 50%;\n",
              "      cursor: pointer;\n",
              "      display: none;\n",
              "      fill: #1967D2;\n",
              "      height: 32px;\n",
              "      padding: 0 0 0 0;\n",
              "      width: 32px;\n",
              "    }\n",
              "\n",
              "    .colab-df-convert:hover {\n",
              "      background-color: #E2EBFA;\n",
              "      box-shadow: 0px 1px 2px rgba(60, 64, 67, 0.3), 0px 1px 3px 1px rgba(60, 64, 67, 0.15);\n",
              "      fill: #174EA6;\n",
              "    }\n",
              "\n",
              "    [theme=dark] .colab-df-convert {\n",
              "      background-color: #3B4455;\n",
              "      fill: #D2E3FC;\n",
              "    }\n",
              "\n",
              "    [theme=dark] .colab-df-convert:hover {\n",
              "      background-color: #434B5C;\n",
              "      box-shadow: 0px 1px 3px 1px rgba(0, 0, 0, 0.15);\n",
              "      filter: drop-shadow(0px 1px 2px rgba(0, 0, 0, 0.3));\n",
              "      fill: #FFFFFF;\n",
              "    }\n",
              "  </style>\n",
              "\n",
              "      <script>\n",
              "        const buttonEl =\n",
              "          document.querySelector('#df-4b9898cc-3dec-4ad7-90f8-49f9c15e15a9 button.colab-df-convert');\n",
              "        buttonEl.style.display =\n",
              "          google.colab.kernel.accessAllowed ? 'block' : 'none';\n",
              "\n",
              "        async function convertToInteractive(key) {\n",
              "          const element = document.querySelector('#df-4b9898cc-3dec-4ad7-90f8-49f9c15e15a9');\n",
              "          const dataTable =\n",
              "            await google.colab.kernel.invokeFunction('convertToInteractive',\n",
              "                                                     [key], {});\n",
              "          if (!dataTable) return;\n",
              "\n",
              "          const docLinkHtml = 'Like what you see? Visit the ' +\n",
              "            '<a target=\"_blank\" href=https://colab.research.google.com/notebooks/data_table.ipynb>data table notebook</a>'\n",
              "            + ' to learn more about interactive tables.';\n",
              "          element.innerHTML = '';\n",
              "          dataTable['output_type'] = 'display_data';\n",
              "          await google.colab.output.renderOutput(dataTable, element);\n",
              "          const docLink = document.createElement('div');\n",
              "          docLink.innerHTML = docLinkHtml;\n",
              "          element.appendChild(docLink);\n",
              "        }\n",
              "      </script>\n",
              "    </div>\n",
              "  </div>\n",
              "  "
            ]
          },
          "metadata": {},
          "execution_count": 5
        }
      ]
    },
    {
      "cell_type": "code",
      "source": [
        "df = df.drop(\"Unnamed: 0\",axis=1)"
      ],
      "metadata": {
        "id": "uDaPT93UZ3G-"
      },
      "execution_count": null,
      "outputs": []
    },
    {
      "cell_type": "code",
      "source": [
        "from sklearn.preprocessing import StandardScaler\n",
        "scaler = StandardScaler()\n",
        "scaled_X = scaler.fit_transform(df)\n",
        "scaled_X"
      ],
      "metadata": {
        "colab": {
          "base_uri": "https://localhost:8080/"
        },
        "id": "6BercidzaF6N",
        "outputId": "cbb49252-bb19-488e-e799-059245e036db"
      },
      "execution_count": null,
      "outputs": [
        {
          "output_type": "execute_result",
          "data": {
            "text/plain": [
              "array([[ 1.26981178,  0.9460606 , -0.79357337, ...,  0.9331623 ,\n",
              "        -0.95113784, -1.07388936],\n",
              "       [-0.02017781, -1.14965364,  2.26361282, ..., -1.74676915,\n",
              "        -1.84889254, -0.63651938],\n",
              "       [ 0.77826033,  0.6532973 , -1.17437899, ...,  1.03151736,\n",
              "         0.13148302, -1.14744836],\n",
              "       ...,\n",
              "       [ 0.46380284,  0.73434691, -0.59753071, ..., -0.23293483,\n",
              "        -0.57333094,  0.27397387],\n",
              "       [ 0.71028226,  0.57608839, -0.44195639, ...,  0.82978668,\n",
              "         0.96531164, -0.82550546],\n",
              "       [-1.17534554, -1.73106622, -0.15412701, ..., -0.08768839,\n",
              "         0.81042798, -1.0173088 ]])"
            ]
          },
          "metadata": {},
          "execution_count": 7
        }
      ]
    },
    {
      "cell_type": "code",
      "source": [
        "from sklearn.decomposition import PCA"
      ],
      "metadata": {
        "id": "POII3eGhaNuG"
      },
      "execution_count": null,
      "outputs": []
    },
    {
      "cell_type": "code",
      "source": [
        "pca = PCA(n_components=2)"
      ],
      "metadata": {
        "id": "R9LnlF_aaSLy"
      },
      "execution_count": null,
      "outputs": []
    },
    {
      "cell_type": "code",
      "source": [
        "pca.fit(scaled_X)"
      ],
      "metadata": {
        "id": "FJIw2vRTaoAa",
        "colab": {
          "base_uri": "https://localhost:8080/"
        },
        "outputId": "2a3cd5f8-66bb-474f-8c5f-c0970c7243ad"
      },
      "execution_count": null,
      "outputs": [
        {
          "output_type": "execute_result",
          "data": {
            "text/plain": [
              "PCA(n_components=2)"
            ]
          },
          "metadata": {},
          "execution_count": 10
        }
      ]
    },
    {
      "cell_type": "code",
      "source": [
        "principal_components = pca.fit_transform(scaled_X)"
      ],
      "metadata": {
        "id": "cBGvX4fOasmV"
      },
      "execution_count": null,
      "outputs": []
    },
    {
      "cell_type": "code",
      "source": [
        "np.sum(pca.explained_variance_ratio_)"
      ],
      "metadata": {
        "colab": {
          "base_uri": "https://localhost:8080/"
        },
        "id": "0DDmMLyPaz-M",
        "outputId": "5c97bc48-77b3-4505-f096-658716e0ff18"
      },
      "execution_count": null,
      "outputs": [
        {
          "output_type": "execute_result",
          "data": {
            "text/plain": [
              "0.29837735876073884"
            ]
          },
          "metadata": {},
          "execution_count": 12
        }
      ]
    },
    {
      "cell_type": "code",
      "source": [
        "pca_45 = PCA(n_components=45)"
      ],
      "metadata": {
        "id": "xALReznQa__W"
      },
      "execution_count": null,
      "outputs": []
    },
    {
      "cell_type": "code",
      "source": [
        "pca_45.fit(scaled_X)"
      ],
      "metadata": {
        "colab": {
          "base_uri": "https://localhost:8080/"
        },
        "id": "7aURE3XCbKNV",
        "outputId": "da8033eb-57ae-4968-a856-193d72a62a7e"
      },
      "execution_count": null,
      "outputs": [
        {
          "output_type": "execute_result",
          "data": {
            "text/plain": [
              "PCA(n_components=45)"
            ]
          },
          "metadata": {},
          "execution_count": 14
        }
      ]
    },
    {
      "cell_type": "code",
      "source": [
        "np.sum(pca_45.explained_variance_ratio_)"
      ],
      "metadata": {
        "colab": {
          "base_uri": "https://localhost:8080/"
        },
        "id": "ug1P1X77bYL8",
        "outputId": "fa146fc5-2867-4dc4-dbb2-cce387cd610b"
      },
      "execution_count": null,
      "outputs": [
        {
          "output_type": "execute_result",
          "data": {
            "text/plain": [
              "0.9604302077468349"
            ]
          },
          "metadata": {},
          "execution_count": 15
        }
      ]
    },
    {
      "cell_type": "code",
      "source": [
        "X = pca_45.transform(scaled_X)"
      ],
      "metadata": {
        "id": "ZWiaJdkQbmUP"
      },
      "execution_count": null,
      "outputs": []
    },
    {
      "cell_type": "code",
      "source": [
        "X.shape"
      ],
      "metadata": {
        "colab": {
          "base_uri": "https://localhost:8080/"
        },
        "id": "eyDBz29ccay6",
        "outputId": "3857639e-feeb-481a-d52c-bde8e6e544e6"
      },
      "execution_count": null,
      "outputs": [
        {
          "output_type": "execute_result",
          "data": {
            "text/plain": [
              "(845086, 45)"
            ]
          },
          "metadata": {},
          "execution_count": 17
        }
      ]
    },
    {
      "cell_type": "code",
      "source": [
        "pca_output = pd.DataFrame(X)"
      ],
      "metadata": {
        "id": "aqy2tuDJcdMg"
      },
      "execution_count": null,
      "outputs": []
    },
    {
      "cell_type": "code",
      "source": [
        "pca_output.to_csv(\"/content/drive/MyDrive/PCA_output_22july.csv\")"
      ],
      "metadata": {
        "id": "IF2qOtZKcs4C"
      },
      "execution_count": null,
      "outputs": []
    },
    {
      "cell_type": "code",
      "source": [],
      "metadata": {
        "id": "YtKooJAu8Trl"
      },
      "execution_count": null,
      "outputs": []
    }
  ]
}